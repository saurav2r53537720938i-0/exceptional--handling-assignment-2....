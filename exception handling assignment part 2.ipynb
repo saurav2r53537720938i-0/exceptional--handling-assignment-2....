{
 "cells": [
  {
   "cell_type": "markdown",
   "id": "83bfc312-af6b-4260-8968-5c985a85b870",
   "metadata": {},
   "source": [
    "Using the exception class as a base for custom exceptions is essential for several reasons:"
   ]
  },
  {
   "cell_type": "markdown",
   "id": "1c9c7ee8-a6ec-47c2-bcad-ad47852d473d",
   "metadata": {},
   "source": [
    " 1.Consistency: By inheriting from the exception class,your custom exception follows the established conventions and structure of exception in the programming languages"
   ]
  },
  {
   "cell_type": "markdown",
   "id": "0445a367-0419-4e0a-a590-44bc83bde633",
   "metadata": {},
   "source": [
    "2.Compatibility: The exception class is designed to intergrate seamlessly with the language's exception-handling mechanism. This ensures that your custom exception can be caught and handled using standard try-catch blocks,making it compitable with existing error-handling pratices."
   ]
  },
  {
   "cell_type": "markdown",
   "id": "160f5538-b807-4af3-a103-4899aa2f6d29",
   "metadata": {},
   "source": [
    "3.Standard Features: The exception class provides standard like stack trace information,error message and other functionalties that are crucial for effectives\n",
    "debugging and error anylasis.\n",
    "inheriting from exception to benfit from these features without having to implement them from scratch."
   ]
  },
  {
   "cell_type": "markdown",
   "id": "dbbaabce-2a42-4f70-bb00-b592ac7dad2a",
   "metadata": {},
   "source": [
    "4.Interoperability: When your code interacts with libaries or frameworks,using the exception class ensures that your custom exception can be easily intergrated\n",
    "into existing error-handling systems.This promtes interoperability and consisent error reporting across diffrence parts of a softwarre project."
   ]
  },
  {
   "cell_type": "markdown",
   "id": "cd0e18ef-9322-4a3e-aa89-3bc4ea2ca7d6",
   "metadata": {},
   "source": [
    "In summary, using the exception class as a base for custom exceptions provides a solid foundation,aligns with language conventions ensures compatiblity with existing error-handling,allign with languages convention ensure compatiblity with existing error-handling mecahnism,and faciltes better collaboration and intergration in a codebase."
   ]
  },
  {
   "cell_type": "code",
   "execution_count": 4,
   "id": "1c7f5d71-dd6c-4017-a500-ed34856e26d6",
   "metadata": {},
   "outputs": [
    {
     "ename": "SyntaxError",
     "evalue": "invalid syntax (3501536425.py, line 1)",
     "output_type": "error",
     "traceback": [
      "\u001b[0;36m  Cell \u001b[0;32mIn[4], line 1\u001b[0;36m\u001b[0m\n\u001b[0;31m    def\u001b[0m\n\u001b[0m       ^\u001b[0m\n\u001b[0;31mSyntaxError\u001b[0m\u001b[0;31m:\u001b[0m invalid syntax\n"
     ]
    }
   ],
   "source": [
    "def\n",
    "print_exception_hiearchy(exception_class, incident =0):\n",
    "print('  ' * indent+str(exception_class))\n",
    "for base_class in\n",
    "exception_class.__base__:\n",
    "print_exception_hiearchy(base_class, indent+1)\n",
    "\n",
    "# Get the base except exception class\n",
    "base_exception = BaseException\n",
    "\n",
    "# Print the exception hiearchy\n",
    "print_exception_hiearchy(base_exception)"
   ]
  },
  {
   "cell_type": "markdown",
   "id": "11da1e44-ddd7-4c53-8c47-b18430dd8e29",
   "metadata": {},
   "source": [
    "1.ZeroDivisionError: Raised when divison or modulo operation is performed with zero as the divisor:"
   ]
  },
  {
   "cell_type": "code",
   "execution_count": 5,
   "id": "fa2f5cd9-b84e-4467-b4ca-2f7c26c0a1bd",
   "metadata": {},
   "outputs": [],
   "source": [
    "numerator = 10\n",
    "denominator = 0"
   ]
  },
  {
   "cell_type": "code",
   "execution_count": 9,
   "id": "e736fd0e-6944-4c6b-9333-111431eedd84",
   "metadata": {},
   "outputs": [
    {
     "name": "stdout",
     "output_type": "stream",
     "text": [
      "Error: division by zero\n"
     ]
    }
   ],
   "source": [
    "try:\n",
    "    result = numerator/ denominator\n",
    "except ZeroDivisionError as e:\n",
    "    print(f\"Error: {e}\")"
   ]
  },
  {
   "cell_type": "markdown",
   "id": "58ea6a60-ef0c-4640-bedf-e17f03d31786",
   "metadata": {},
   "source": [
    "2. overflowError:"
   ]
  },
  {
   "cell_type": "markdown",
   "id": "e312bded-f334-4507-b4f5-e72668cda2cb",
   "metadata": {},
   "source": [
    ".Description: raised when an arthemetic operation exceeds the limits of the data type"
   ]
  },
  {
   "cell_type": "code",
   "execution_count": 10,
   "id": "bcd8cf5c-8f92-41de-8b95-c7db68717641",
   "metadata": {},
   "outputs": [],
   "source": [
    "import sys\n",
    "max_int = sys.maxsize\n",
    "overflowed_value = max_int+1\n",
    "\n",
    "try:\n",
    "    result = overflowed_value+2\n",
    "except OverFlowError as e:\n",
    "    print(f\"error: {e}\")"
   ]
  },
  {
   "cell_type": "markdown",
   "id": "a425e19b-c82c-444b-961d-c851bcb747ce",
   "metadata": {},
   "source": [
    "1.KeyError:"
   ]
  },
  {
   "cell_type": "code",
   "execution_count": 11,
   "id": "5e12c219-1f94-4258-bcf4-0fe302cca502",
   "metadata": {},
   "outputs": [
    {
     "name": "stdout",
     "output_type": "stream",
     "text": [
      "KeyError: 'orange'\n"
     ]
    }
   ],
   "source": [
    "my_dict = {'apple': 1, 'bananana': 2}\n",
    "try:\n",
    "    value = my_dict['orange']\n",
    "    # Raises a KeyError\n",
    "except KeyError as e:\n",
    "    print(f\"KeyError: {e}\")"
   ]
  },
  {
   "cell_type": "markdown",
   "id": "08b307e4-3ad7-4bf1-b486-36d29c48805e",
   "metadata": {},
   "source": [
    "2. IndexError"
   ]
  },
  {
   "cell_type": "code",
   "execution_count": 13,
   "id": "6170483a-6bdc-4498-9fd5-f6d3255e285a",
   "metadata": {},
   "outputs": [
    {
     "name": "stdout",
     "output_type": "stream",
     "text": [
      "IndexError: list index out of range\n"
     ]
    }
   ],
   "source": [
    "my_list = [10, 20, 30]\n",
    "try:\n",
    "    value = my_list[3]\n",
    "    #Raises as IndexError\n",
    "except IndexError as e:\n",
    "    print(f\"IndexError: {e}\")"
   ]
  },
  {
   "cell_type": "markdown",
   "id": "27c07086-2ac7-4d83-acbd-fedbed91c99f",
   "metadata": {},
   "source": [
    "1. ImportError:"
   ]
  },
  {
   "cell_type": "code",
   "execution_count": 14,
   "id": "21f35ba2-1a43-4556-bde1-2365d907b3b1",
   "metadata": {},
   "outputs": [
    {
     "name": "stdout",
     "output_type": "stream",
     "text": [
      "ImportError: No module named 'non_existent_module'\n"
     ]
    }
   ],
   "source": [
    "try:\n",
    "    import non_existent_module\n",
    "    # Raises ImportError\n",
    "except ImportError as e:\n",
    "    print(f\"ImportError: {e}\")"
   ]
  },
  {
   "cell_type": "markdown",
   "id": "8372a114-e0fc-4071-952d-4d6a16f68d0a",
   "metadata": {},
   "source": [
    "2.ModuleNotFoundError:"
   ]
  },
  {
   "cell_type": "code",
   "execution_count": 16,
   "id": "27fdcaeb-f45b-4845-8a6e-89bdcb0e4b0c",
   "metadata": {},
   "outputs": [
    {
     "name": "stdout",
     "output_type": "stream",
     "text": [
      "ModuleNotError : No module named 'non_existent_package'\n"
     ]
    }
   ],
   "source": [
    "try:\n",
    "    from non_existent_package import module\n",
    "# Raises ModuleNotFoundError\n",
    "except ModuleNotFoundError as e:\n",
    "    print(f\"ModuleNotError : {e}\")  "
   ]
  },
  {
   "cell_type": "markdown",
   "id": "34bc86b5-93d6-4af3-a53d-9e51976973cc",
   "metadata": {},
   "source": [
    "1.Use Specfic Exceptions\n",
    "2.Avoid bare excepts\n",
    "3.Handle exceptions locality\n",
    "4.use finally for cleanup\n",
    "5.use with statements\n",
    "6.log exceptions\n",
    "7.avoid too much code in try blocks\n",
    "8.handle specfic exceptions in the right order:\n",
    "9.reraise exceptions wisely:\n",
    "10.use assertions for unr"
   ]
  }
 ],
 "metadata": {
  "kernelspec": {
   "display_name": "Python 3 (ipykernel)",
   "language": "python",
   "name": "python3"
  },
  "language_info": {
   "codemirror_mode": {
    "name": "ipython",
    "version": 3
   },
   "file_extension": ".py",
   "mimetype": "text/x-python",
   "name": "python",
   "nbconvert_exporter": "python",
   "pygments_lexer": "ipython3",
   "version": "3.10.8"
  }
 },
 "nbformat": 4,
 "nbformat_minor": 5
}
